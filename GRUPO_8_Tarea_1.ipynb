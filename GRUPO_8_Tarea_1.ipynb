{
  "nbformat": 4,
  "nbformat_minor": 0,
  "metadata": {
    "colab": {
      "provenance": [],
      "include_colab_link": true
    },
    "kernelspec": {
      "name": "python3",
      "display_name": "Python 3"
    },
    "language_info": {
      "name": "python"
    }
  },
  "cells": [
    {
      "cell_type": "markdown",
      "metadata": {
        "id": "view-in-github",
        "colab_type": "text"
      },
      "source": [
        "<a href=\"https://colab.research.google.com/github/rachelriv23/Grupo_8_Taller_Python/blob/main/GRUPO_8_Tarea_1.ipynb\" target=\"_parent\"><img src=\"https://colab.research.google.com/assets/colab-badge.svg\" alt=\"Open In Colab\"/></a>"
      ]
    },
    {
      "cell_type": "markdown",
      "source": [
        "# **Tarea 1**"
      ],
      "metadata": {
        "id": "hWNlbsuAQlTh"
      }
    },
    {
      "cell_type": "markdown",
      "source": [
        "Nombre,apellido y código:\n",
        "\n",
        "-Italo Antoni Diaz Salazar            (20195776)\n"
      ],
      "metadata": {
        "id": "lCa2ZFrNbpmF"
      }
    },
    {
      "cell_type": "markdown",
      "source": [
        "### Problema 1"
      ],
      "metadata": {
        "id": "nobtFkcCRBem"
      }
    },
    {
      "cell_type": "code",
      "execution_count": null,
      "metadata": {
        "id": "bMZbQMoDpXeW",
        "colab": {
          "base_uri": "https://localhost:8080/"
        },
        "outputId": "b016aad5-d603-4359-adf5-fd9c15e9664e"
      },
      "outputs": [
        {
          "output_type": "stream",
          "name": "stdout",
          "text": [
            "Es múltiplo de 2 y 3\n"
          ]
        }
      ],
      "source": [
        "x = 6\n",
        "\n",
        "if x % 2 == 0 and x % 3 == 0:\n",
        "  print(\"Es múltiplo de 2 y 3\")\n",
        "\n",
        "elif x % 2 == 0:\n",
        "  print(\"Es múltiplo de 2\")\n",
        "\n",
        "elif x % 3 == 0:\n",
        "  print(\"Es múltiplo de 3\")\n",
        "\n",
        "else:\n",
        "  print(\"Otro caso\")\n",
        "\n"
      ]
    },
    {
      "cell_type": "markdown",
      "source": [
        "### Problema 2"
      ],
      "metadata": {
        "id": "UQCeizvZOLCb"
      }
    },
    {
      "cell_type": "code",
      "source": [
        "for x in range(1,100):\n",
        "  if x % 3 == 0 and x % 5 == 0:\n",
        "    print(\"FizzBuzz\")\n",
        "  elif x % 3 == 0:\n",
        "    print(\"Fizz\")\n",
        "  elif x % 5 == 0:\n",
        "    print(\"Buzz\")\n",
        "  else:\n",
        "    print(x)\n"
      ],
      "metadata": {
        "colab": {
          "base_uri": "https://localhost:8080/"
        },
        "id": "-AY-OJw0Wg3B",
        "outputId": "a04d0f3b-f3ce-4991-e390-2bb5c3bd0163"
      },
      "execution_count": null,
      "outputs": [
        {
          "output_type": "stream",
          "name": "stdout",
          "text": [
            "1\n",
            "2\n",
            "Fizz\n",
            "4\n",
            "Buzz\n",
            "Fizz\n",
            "7\n",
            "8\n",
            "Fizz\n",
            "Buzz\n",
            "11\n",
            "Fizz\n",
            "13\n",
            "14\n",
            "FizzBuzz\n",
            "16\n",
            "17\n",
            "Fizz\n",
            "19\n",
            "Buzz\n",
            "Fizz\n",
            "22\n",
            "23\n",
            "Fizz\n",
            "Buzz\n",
            "26\n",
            "Fizz\n",
            "28\n",
            "29\n",
            "FizzBuzz\n",
            "31\n",
            "32\n",
            "Fizz\n",
            "34\n",
            "Buzz\n",
            "Fizz\n",
            "37\n",
            "38\n",
            "Fizz\n",
            "Buzz\n",
            "41\n",
            "Fizz\n",
            "43\n",
            "44\n",
            "FizzBuzz\n",
            "46\n",
            "47\n",
            "Fizz\n",
            "49\n",
            "Buzz\n",
            "Fizz\n",
            "52\n",
            "53\n",
            "Fizz\n",
            "Buzz\n",
            "56\n",
            "Fizz\n",
            "58\n",
            "59\n",
            "FizzBuzz\n",
            "61\n",
            "62\n",
            "Fizz\n",
            "64\n",
            "Buzz\n",
            "Fizz\n",
            "67\n",
            "68\n",
            "Fizz\n",
            "Buzz\n",
            "71\n",
            "Fizz\n",
            "73\n",
            "74\n",
            "FizzBuzz\n",
            "76\n",
            "77\n",
            "Fizz\n",
            "79\n",
            "Buzz\n",
            "Fizz\n",
            "82\n",
            "83\n",
            "Fizz\n",
            "Buzz\n",
            "86\n",
            "Fizz\n",
            "88\n",
            "89\n",
            "FizzBuzz\n",
            "91\n",
            "92\n",
            "Fizz\n",
            "94\n",
            "Buzz\n",
            "Fizz\n",
            "97\n",
            "98\n",
            "Fizz\n"
          ]
        }
      ]
    },
    {
      "cell_type": "markdown",
      "source": [
        "### Problema 3"
      ],
      "metadata": {
        "id": "aAg7gZHBRTqX"
      }
    },
    {
      "cell_type": "code",
      "source": [
        "def calcular_descuento(total):\n",
        "    if total >= 1000:\n",
        "        descuento = total * 0.2\n",
        "    elif 500<= total <1000:\n",
        "        descuento = total * 0.1\n",
        "    else:\n",
        "        descuento = 0\n",
        "\n",
        "    total_final = total - descuento\n",
        "    return total_final\n",
        "\n",
        "total1 = calcular_descuento(1200)\n",
        "total2 = calcular_descuento(750)\n",
        "total3 = calcular_descuento(300)\n",
        "\n",
        "print(total1)\n",
        "print(total2)\n",
        "print(total3)"
      ],
      "metadata": {
        "colab": {
          "base_uri": "https://localhost:8080/"
        },
        "id": "8WMShYqB-UwE",
        "outputId": "f7f8aa54-46f2-4e98-c648-3029c7db655d"
      },
      "execution_count": null,
      "outputs": [
        {
          "output_type": "stream",
          "name": "stdout",
          "text": [
            "960.0\n",
            "675.0\n",
            "300\n"
          ]
        }
      ]
    },
    {
      "cell_type": "code",
      "source": [
        "def calcular_descuento(n):\n",
        "  if n >= 1000:\n",
        "    return n - 0.2 * n\n",
        "  elif n >= 500 and n < 1000:\n",
        "    return n - 0.1* n\n",
        "  else:\n",
        "    return n\n"
      ],
      "metadata": {
        "id": "qktwVeCiJklG"
      },
      "execution_count": null,
      "outputs": []
    },
    {
      "cell_type": "code",
      "source": [
        "print(calcular_descuento(1200))\n",
        "print(calcular_descuento(750))\n",
        "print(calcular_descuento(300))"
      ],
      "metadata": {
        "colab": {
          "base_uri": "https://localhost:8080/"
        },
        "id": "lXfWkXrCKHJC",
        "outputId": "d136135b-b72b-420f-fcca-dd3132750f46"
      },
      "execution_count": null,
      "outputs": [
        {
          "output_type": "stream",
          "name": "stdout",
          "text": [
            "960.0\n",
            "675.0\n",
            "300\n"
          ]
        }
      ]
    },
    {
      "cell_type": "markdown",
      "source": [
        "### Problema 4"
      ],
      "metadata": {
        "id": "VYgzLAaYRWk1"
      }
    },
    {
      "cell_type": "code",
      "source": [
        "def clasificar_edad (n):\n",
        "  if n<12:\n",
        "    return \"Niño\"\n",
        "  elif 12<=n<=17:\n",
        "    return \"Adolescente\"\n",
        "  elif 18<=n<=24:\n",
        "    return \"Joven\"\n",
        "  elif 25<=n<=64:\n",
        "    return \"Adulto\"\n",
        "  else:\n",
        "    return \"Adulto mayor\""
      ],
      "metadata": {
        "id": "MxOCb1ipRYz4"
      },
      "execution_count": null,
      "outputs": []
    },
    {
      "cell_type": "code",
      "source": [
        "print(clasificar_edad(10))\n",
        "print(clasificar_edad(19))\n",
        "print(clasificar_edad(25))\n",
        "print(clasificar_edad(70))"
      ],
      "metadata": {
        "colab": {
          "base_uri": "https://localhost:8080/"
        },
        "id": "Rhygpa1JT8oa",
        "outputId": "90ea6568-8860-479a-cd1f-e46c38490670"
      },
      "execution_count": null,
      "outputs": [
        {
          "output_type": "stream",
          "name": "stdout",
          "text": [
            "Niño\n",
            "Joven\n",
            "Adulto\n",
            "Adulto mayor\n"
          ]
        }
      ]
    },
    {
      "cell_type": "markdown",
      "source": [
        "### Problema 5"
      ],
      "metadata": {
        "id": "IrLhdj_IRbSp"
      }
    },
    {
      "cell_type": "code",
      "source": [
        "def calcular_craest(media_personal,media_curso,desviacion_curso):\n",
        "  '''objetivo: calcular mi craest total\n",
        "\n",
        "  input:\n",
        "  media_personal:  representa el puntaje promedio alcanzado por el alumno en todos los cursos inscritos\n",
        "media_curso: representa el puntaje promedio del total de alumnos inscritos en el curso\n",
        "desviacion_curso: representa la desviación estandar de las notas del curso\n",
        "\n",
        "output: veredcito que representa el craest total del alumno\n",
        "\n",
        "'''\n",
        "  craest= ((media_personal - media_curso) * 10) / desviacion_curso + 50\n",
        "  return craest\n"
      ],
      "metadata": {
        "id": "L_vhpE_cReMZ"
      },
      "execution_count": null,
      "outputs": []
    },
    {
      "cell_type": "code",
      "source": [
        "calcular_craest (14.5,13.26,3.5)"
      ],
      "metadata": {
        "colab": {
          "base_uri": "https://localhost:8080/"
        },
        "id": "ZTq64z-tbF4Q",
        "outputId": "d11ec055-0d4f-4279-8aea-8e170e3328a2"
      },
      "execution_count": null,
      "outputs": [
        {
          "output_type": "execute_result",
          "data": {
            "text/plain": [
              "53.542857142857144"
            ]
          },
          "metadata": {},
          "execution_count": 3
        }
      ]
    }
  ]
}